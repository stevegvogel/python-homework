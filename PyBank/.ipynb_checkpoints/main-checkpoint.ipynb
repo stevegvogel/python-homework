{
 "cells": [
  {
   "cell_type": "code",
   "execution_count": 2,
   "id": "14aec888",
   "metadata": {},
   "outputs": [
    {
     "name": "stdout",
     "output_type": "stream",
     "text": [
      "Financial Analysis\n",
      "--------------------------------\n",
      "Total Months: \n",
      "86\n",
      "Total: \n",
      "37711479\n",
      "Highest Profit Month: \n",
      "1170593\n",
      "Lowest Profit Month: \n",
      "-1196225\n",
      "Average Monthly Profit:\n",
      "438505.57\n"
     ]
    }
   ],
   "source": [
    "import pandas as pd\n",
    "df=pd.read_csv(\"budget_data.csv\")\n",
    "print('Financial Analysis')\n",
    "print('--------------------------------')\n",
    "\n",
    "month_list = list(df['Date'])\n",
    "total_months = len(month_list)\n",
    "print('Total Months: ') \n",
    "print(total_months)\n",
    "profitLoss = list(df['Profit/Losses'])\n",
    "\n",
    "sum = 0\n",
    "for i in range(0,len(profitLoss)-1):\n",
    "    sum = sum + profitLoss[i]\n",
    "print('Total: ')\n",
    "print(sum)\n",
    "\n",
    "max = profitLoss[0]\n",
    "for i in range(0, len(profitLoss)-1):\n",
    "    if profitLoss[i] > max:\n",
    "        max = profitLoss[i]\n",
    "print('Highest Profit Month: ')\n",
    "print(max)\n",
    "\n",
    "min = profitLoss[0]\n",
    "for i in range(0, len(profitLoss)-1):\n",
    "    if profitLoss[i] < min:\n",
    "        min = profitLoss[i]\n",
    "print('Lowest Profit Month: ')\n",
    "print(min)\n",
    "\n",
    "Average_Monthly_Profit=round(sum/total_months,2)\n",
    "print('Average Monthly Profit:')\n",
    "print(Average_Monthly_Profit)\n",
    "\n",
    "outputDf=pd.DataFrame({'Total Months': [total_months], \n",
    "                          'Lowest Profit Month': [min],\n",
    "                          'Highest Profit Month': [max], \n",
    "                          'Average Profit Month': [Average_Monthly_Profit],\n",
    "                          'Total Profit': [sum]})\n",
    "outputDf.to_csv('output.csv', index=False)"
   ]
  },
  {
   "cell_type": "code",
   "execution_count": null,
   "id": "6b403346",
   "metadata": {},
   "outputs": [],
   "source": []
  }
 ],
 "metadata": {
  "kernelspec": {
   "display_name": "Python 3",
   "language": "python",
   "name": "python3"
  },
  "language_info": {
   "codemirror_mode": {
    "name": "ipython",
    "version": 3
   },
   "file_extension": ".py",
   "mimetype": "text/x-python",
   "name": "python",
   "nbconvert_exporter": "python",
   "pygments_lexer": "ipython3",
   "version": "3.7.10"
  }
 },
 "nbformat": 4,
 "nbformat_minor": 5
}
