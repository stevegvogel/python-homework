{
 "cells": [
  {
   "cell_type": "code",
   "execution_count": 11,
   "id": "14aec888",
   "metadata": {},
   "outputs": [
    {
     "name": "stdout",
     "output_type": "stream",
     "text": [
      "Financial Analysis\n",
      "--------------------------------\n",
      "Total Months:  86\n",
      "Total:  38382578\n",
      "Highest Profit Month:  Feb-2012 1170593\n",
      "Lowest Profit Month:  Sep-2013 -1196225\n",
      "Average Change:  -2315.12\n"
     ]
    }
   ],
   "source": [
    "import pandas as pd\n",
    "df=pd.read_csv(\"budget_data.csv\")\n",
    "print('Financial Analysis')\n",
    "print('--------------------------------')\n",
    "\n",
    "month_list = list(df['Date'])\n",
    "total_months = len(month_list)\n",
    "print('Total Months: ', total_months) \n",
    "profitLoss = list(df['Profit/Losses'])\n",
    "\n",
    "sum = 0\n",
    "max = profitLoss[0]\n",
    "min = profitLoss[0]\n",
    "maxDate = ''\n",
    "minDate = ''\n",
    "sumOfChange = 0\n",
    "count = 0;\n",
    "\n",
    "for i in range(0, len(profitLoss)):\n",
    "    sum = sum + profitLoss[i] #Find the sum of all the profits or losses\n",
    "    \n",
    "    if profitLoss[i] > max: #Find the maximum profit/loss\n",
    "        max = profitLoss[i]\n",
    "        maxDate = month_list[i]\n",
    "    \n",
    "    if profitLoss[i] < min: #Find the minimum profit/loss\n",
    "        min = profitLoss[i]\n",
    "        minDate = month_list[i]\n",
    "        \n",
    "    if i != 0:\n",
    "        sumOfChange = sumOfChange + (profitLoss[i] - profitLoss[i-1])\n",
    "        \n",
    "print('Total: ', sum)\n",
    "print('Highest Profit Month: ', maxDate, max)\n",
    "print('Lowest Profit Month: ', minDate, min)\n",
    "\n",
    "Average_Change=round(sumOfChange/(total_months-1),2)\n",
    "print('Average Change: ', Average_Change)\n",
    "\n",
    "minCombined = minDate + ' ' + str(min)\n",
    "maxCombined = maxDate + ' ' +str(max)\n",
    "\n",
    "outputDf=pd.DataFrame({'Total Months': [total_months], \n",
    "                          'Lowest Profit Month': [minCombined],\n",
    "                          'Highest Profit Month': [maxCombined], \n",
    "                          'Average Change': [Average_Change],\n",
    "                          'Total Profit': [sum]})\n",
    "outputDf.to_csv('output.csv', index=False)"
   ]
  },
  {
   "cell_type": "code",
   "execution_count": null,
   "id": "6b403346",
   "metadata": {},
   "outputs": [],
   "source": []
  }
 ],
 "metadata": {
  "kernelspec": {
   "display_name": "Python 3",
   "language": "python",
   "name": "python3"
  },
  "language_info": {
   "codemirror_mode": {
    "name": "ipython",
    "version": 3
   },
   "file_extension": ".py",
   "mimetype": "text/x-python",
   "name": "python",
   "nbconvert_exporter": "python",
   "pygments_lexer": "ipython3",
   "version": "3.7.10"
  }
 },
 "nbformat": 4,
 "nbformat_minor": 5
}
